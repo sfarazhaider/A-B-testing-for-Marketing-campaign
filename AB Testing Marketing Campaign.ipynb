{
 "cells": [
  {
   "cell_type": "markdown",
   "id": "5b1259ba",
   "metadata": {},
   "source": [
    "## Importing Data Set"
   ]
  },
  {
   "cell_type": "code",
   "execution_count": 36,
   "id": "9c9e105c",
   "metadata": {},
   "outputs": [],
   "source": [
    "import numpy as np\n",
    "import pandas as pd\n",
    "import matplotlib.pyplot as plt\n",
    "from scipy import stats\n",
    "import seaborn as sns\n",
    "%matplotlib inline"
   ]
  },
  {
   "cell_type": "code",
   "execution_count": 46,
   "id": "db3b1b2a",
   "metadata": {},
   "outputs": [],
   "source": [
    "df_raw=pd.read_csv(r\"C:\\Users\\92330\\OneDrive\\Desktop\\Faraz\\JupyterProjects\\Marketing_AB.csv\")\n"
   ]
  },
  {
   "cell_type": "code",
   "execution_count": 47,
   "id": "b73fdd69",
   "metadata": {},
   "outputs": [
    {
     "data": {
      "text/html": [
       "<div>\n",
       "<style scoped>\n",
       "    .dataframe tbody tr th:only-of-type {\n",
       "        vertical-align: middle;\n",
       "    }\n",
       "\n",
       "    .dataframe tbody tr th {\n",
       "        vertical-align: top;\n",
       "    }\n",
       "\n",
       "    .dataframe thead th {\n",
       "        text-align: right;\n",
       "    }\n",
       "</style>\n",
       "<table border=\"1\" class=\"dataframe\">\n",
       "  <thead>\n",
       "    <tr style=\"text-align: right;\">\n",
       "      <th></th>\n",
       "      <th>Unnamed: 0</th>\n",
       "      <th>user id</th>\n",
       "      <th>test group</th>\n",
       "      <th>converted</th>\n",
       "      <th>total ads</th>\n",
       "      <th>most ads day</th>\n",
       "      <th>most ads hour</th>\n",
       "    </tr>\n",
       "  </thead>\n",
       "  <tbody>\n",
       "    <tr>\n",
       "      <th>0</th>\n",
       "      <td>0</td>\n",
       "      <td>1069124</td>\n",
       "      <td>ad</td>\n",
       "      <td>False</td>\n",
       "      <td>130</td>\n",
       "      <td>Monday</td>\n",
       "      <td>20</td>\n",
       "    </tr>\n",
       "    <tr>\n",
       "      <th>1</th>\n",
       "      <td>1</td>\n",
       "      <td>1119715</td>\n",
       "      <td>ad</td>\n",
       "      <td>False</td>\n",
       "      <td>93</td>\n",
       "      <td>Tuesday</td>\n",
       "      <td>22</td>\n",
       "    </tr>\n",
       "    <tr>\n",
       "      <th>2</th>\n",
       "      <td>2</td>\n",
       "      <td>1144181</td>\n",
       "      <td>ad</td>\n",
       "      <td>False</td>\n",
       "      <td>21</td>\n",
       "      <td>Tuesday</td>\n",
       "      <td>18</td>\n",
       "    </tr>\n",
       "    <tr>\n",
       "      <th>3</th>\n",
       "      <td>3</td>\n",
       "      <td>1435133</td>\n",
       "      <td>ad</td>\n",
       "      <td>False</td>\n",
       "      <td>355</td>\n",
       "      <td>Tuesday</td>\n",
       "      <td>10</td>\n",
       "    </tr>\n",
       "    <tr>\n",
       "      <th>4</th>\n",
       "      <td>4</td>\n",
       "      <td>1015700</td>\n",
       "      <td>ad</td>\n",
       "      <td>False</td>\n",
       "      <td>276</td>\n",
       "      <td>Friday</td>\n",
       "      <td>14</td>\n",
       "    </tr>\n",
       "    <tr>\n",
       "      <th>5</th>\n",
       "      <td>5</td>\n",
       "      <td>1137664</td>\n",
       "      <td>ad</td>\n",
       "      <td>False</td>\n",
       "      <td>734</td>\n",
       "      <td>Saturday</td>\n",
       "      <td>10</td>\n",
       "    </tr>\n",
       "    <tr>\n",
       "      <th>6</th>\n",
       "      <td>6</td>\n",
       "      <td>1116205</td>\n",
       "      <td>ad</td>\n",
       "      <td>False</td>\n",
       "      <td>264</td>\n",
       "      <td>Wednesday</td>\n",
       "      <td>13</td>\n",
       "    </tr>\n",
       "    <tr>\n",
       "      <th>7</th>\n",
       "      <td>7</td>\n",
       "      <td>1496843</td>\n",
       "      <td>ad</td>\n",
       "      <td>False</td>\n",
       "      <td>17</td>\n",
       "      <td>Sunday</td>\n",
       "      <td>18</td>\n",
       "    </tr>\n",
       "    <tr>\n",
       "      <th>8</th>\n",
       "      <td>8</td>\n",
       "      <td>1448851</td>\n",
       "      <td>ad</td>\n",
       "      <td>False</td>\n",
       "      <td>21</td>\n",
       "      <td>Tuesday</td>\n",
       "      <td>19</td>\n",
       "    </tr>\n",
       "    <tr>\n",
       "      <th>9</th>\n",
       "      <td>9</td>\n",
       "      <td>1446284</td>\n",
       "      <td>ad</td>\n",
       "      <td>False</td>\n",
       "      <td>142</td>\n",
       "      <td>Monday</td>\n",
       "      <td>14</td>\n",
       "    </tr>\n",
       "  </tbody>\n",
       "</table>\n",
       "</div>"
      ],
      "text/plain": [
       "   Unnamed: 0  user id test group  converted  total ads most ads day  \\\n",
       "0           0  1069124         ad      False        130       Monday   \n",
       "1           1  1119715         ad      False         93      Tuesday   \n",
       "2           2  1144181         ad      False         21      Tuesday   \n",
       "3           3  1435133         ad      False        355      Tuesday   \n",
       "4           4  1015700         ad      False        276       Friday   \n",
       "5           5  1137664         ad      False        734     Saturday   \n",
       "6           6  1116205         ad      False        264    Wednesday   \n",
       "7           7  1496843         ad      False         17       Sunday   \n",
       "8           8  1448851         ad      False         21      Tuesday   \n",
       "9           9  1446284         ad      False        142       Monday   \n",
       "\n",
       "   most ads hour  \n",
       "0             20  \n",
       "1             22  \n",
       "2             18  \n",
       "3             10  \n",
       "4             14  \n",
       "5             10  \n",
       "6             13  \n",
       "7             18  \n",
       "8             19  \n",
       "9             14  "
      ]
     },
     "execution_count": 47,
     "metadata": {},
     "output_type": "execute_result"
    }
   ],
   "source": [
    "df_raw.head(10)"
   ]
  },
  {
   "cell_type": "markdown",
   "id": "41fc4638",
   "metadata": {},
   "source": [
    "## Data Exploration "
   ]
  },
  {
   "cell_type": "markdown",
   "id": "b5b6fc1d",
   "metadata": {},
   "source": [
    "#####  I remove the first column from the DataFrame as it doesn't contain the data I need. Then, I check the DataFrame's information to understand data types, column names, and dataset size with info() function of python. I used describe() function to show a variety of key stats all at once. we can use the min() and max() functions together to compute the range of our data and mean() and median() to detect outliers"
   ]
  },
  {
   "cell_type": "code",
   "execution_count": 48,
   "id": "3b4490b3",
   "metadata": {},
   "outputs": [
    {
     "name": "stdout",
     "output_type": "stream",
     "text": [
      "<class 'pandas.core.frame.DataFrame'>\n",
      "RangeIndex: 588101 entries, 0 to 588100\n",
      "Data columns (total 6 columns):\n",
      " #   Column         Non-Null Count   Dtype \n",
      "---  ------         --------------   ----- \n",
      " 0   user id        588101 non-null  int64 \n",
      " 1   test group     588101 non-null  object\n",
      " 2   converted      588101 non-null  bool  \n",
      " 3   total ads      588101 non-null  int64 \n",
      " 4   most ads day   588101 non-null  object\n",
      " 5   most ads hour  588101 non-null  int64 \n",
      "dtypes: bool(1), int64(3), object(2)\n",
      "memory usage: 23.0+ MB\n"
     ]
    }
   ],
   "source": [
    "df=df_raw.drop('Unnamed: 0', axis=1)\n",
    "df.info()"
   ]
  },
  {
   "cell_type": "code",
   "execution_count": 49,
   "id": "7e93882b",
   "metadata": {},
   "outputs": [
    {
     "data": {
      "text/html": [
       "<div>\n",
       "<style scoped>\n",
       "    .dataframe tbody tr th:only-of-type {\n",
       "        vertical-align: middle;\n",
       "    }\n",
       "\n",
       "    .dataframe tbody tr th {\n",
       "        vertical-align: top;\n",
       "    }\n",
       "\n",
       "    .dataframe thead th {\n",
       "        text-align: right;\n",
       "    }\n",
       "</style>\n",
       "<table border=\"1\" class=\"dataframe\">\n",
       "  <thead>\n",
       "    <tr style=\"text-align: right;\">\n",
       "      <th></th>\n",
       "      <th>count</th>\n",
       "      <th>unique</th>\n",
       "      <th>top</th>\n",
       "      <th>freq</th>\n",
       "      <th>mean</th>\n",
       "      <th>std</th>\n",
       "      <th>min</th>\n",
       "      <th>25%</th>\n",
       "      <th>50%</th>\n",
       "      <th>75%</th>\n",
       "      <th>max</th>\n",
       "    </tr>\n",
       "  </thead>\n",
       "  <tbody>\n",
       "    <tr>\n",
       "      <th>user id</th>\n",
       "      <td>588101.0</td>\n",
       "      <td>NaN</td>\n",
       "      <td>NaN</td>\n",
       "      <td>NaN</td>\n",
       "      <td>1310692.215793</td>\n",
       "      <td>202225.983128</td>\n",
       "      <td>900000.0</td>\n",
       "      <td>1143190.0</td>\n",
       "      <td>1313725.0</td>\n",
       "      <td>1484088.0</td>\n",
       "      <td>1654483.0</td>\n",
       "    </tr>\n",
       "    <tr>\n",
       "      <th>test group</th>\n",
       "      <td>588101</td>\n",
       "      <td>2</td>\n",
       "      <td>ad</td>\n",
       "      <td>564577</td>\n",
       "      <td>NaN</td>\n",
       "      <td>NaN</td>\n",
       "      <td>NaN</td>\n",
       "      <td>NaN</td>\n",
       "      <td>NaN</td>\n",
       "      <td>NaN</td>\n",
       "      <td>NaN</td>\n",
       "    </tr>\n",
       "    <tr>\n",
       "      <th>converted</th>\n",
       "      <td>588101</td>\n",
       "      <td>2</td>\n",
       "      <td>False</td>\n",
       "      <td>573258</td>\n",
       "      <td>NaN</td>\n",
       "      <td>NaN</td>\n",
       "      <td>NaN</td>\n",
       "      <td>NaN</td>\n",
       "      <td>NaN</td>\n",
       "      <td>NaN</td>\n",
       "      <td>NaN</td>\n",
       "    </tr>\n",
       "    <tr>\n",
       "      <th>total ads</th>\n",
       "      <td>588101.0</td>\n",
       "      <td>NaN</td>\n",
       "      <td>NaN</td>\n",
       "      <td>NaN</td>\n",
       "      <td>24.820876</td>\n",
       "      <td>43.715181</td>\n",
       "      <td>1.0</td>\n",
       "      <td>4.0</td>\n",
       "      <td>13.0</td>\n",
       "      <td>27.0</td>\n",
       "      <td>2065.0</td>\n",
       "    </tr>\n",
       "    <tr>\n",
       "      <th>most ads day</th>\n",
       "      <td>588101</td>\n",
       "      <td>7</td>\n",
       "      <td>Friday</td>\n",
       "      <td>92608</td>\n",
       "      <td>NaN</td>\n",
       "      <td>NaN</td>\n",
       "      <td>NaN</td>\n",
       "      <td>NaN</td>\n",
       "      <td>NaN</td>\n",
       "      <td>NaN</td>\n",
       "      <td>NaN</td>\n",
       "    </tr>\n",
       "    <tr>\n",
       "      <th>most ads hour</th>\n",
       "      <td>588101.0</td>\n",
       "      <td>NaN</td>\n",
       "      <td>NaN</td>\n",
       "      <td>NaN</td>\n",
       "      <td>14.469061</td>\n",
       "      <td>4.834634</td>\n",
       "      <td>0.0</td>\n",
       "      <td>11.0</td>\n",
       "      <td>14.0</td>\n",
       "      <td>18.0</td>\n",
       "      <td>23.0</td>\n",
       "    </tr>\n",
       "  </tbody>\n",
       "</table>\n",
       "</div>"
      ],
      "text/plain": [
       "                  count unique     top    freq            mean            std  \\\n",
       "user id        588101.0    NaN     NaN     NaN  1310692.215793  202225.983128   \n",
       "test group       588101      2      ad  564577             NaN            NaN   \n",
       "converted        588101      2   False  573258             NaN            NaN   \n",
       "total ads      588101.0    NaN     NaN     NaN       24.820876      43.715181   \n",
       "most ads day     588101      7  Friday   92608             NaN            NaN   \n",
       "most ads hour  588101.0    NaN     NaN     NaN       14.469061       4.834634   \n",
       "\n",
       "                    min        25%        50%        75%        max  \n",
       "user id        900000.0  1143190.0  1313725.0  1484088.0  1654483.0  \n",
       "test group          NaN        NaN        NaN        NaN        NaN  \n",
       "converted           NaN        NaN        NaN        NaN        NaN  \n",
       "total ads           1.0        4.0       13.0       27.0     2065.0  \n",
       "most ads day        NaN        NaN        NaN        NaN        NaN  \n",
       "most ads hour       0.0       11.0       14.0       18.0       23.0  "
      ]
     },
     "execution_count": 49,
     "metadata": {},
     "output_type": "execute_result"
    }
   ],
   "source": [
    "df.describe(include='all').T"
   ]
  },
  {
   "cell_type": "code",
   "execution_count": 50,
   "id": "9b93de31",
   "metadata": {},
   "outputs": [
    {
     "data": {
      "text/plain": [
       "(588101, 6)"
      ]
     },
     "execution_count": 50,
     "metadata": {},
     "output_type": "execute_result"
    }
   ],
   "source": [
    "df.shape"
   ]
  },
  {
   "cell_type": "code",
   "execution_count": 51,
   "id": "1e3fc808",
   "metadata": {},
   "outputs": [
    {
     "data": {
      "text/plain": [
       "user id          588101\n",
       "test group            2\n",
       "converted             2\n",
       "total ads           807\n",
       "most ads day          7\n",
       "most ads hour        24\n",
       "dtype: int64"
      ]
     },
     "execution_count": 51,
     "metadata": {},
     "output_type": "execute_result"
    }
   ],
   "source": [
    "df.nunique()"
   ]
  },
  {
   "cell_type": "code",
   "execution_count": 52,
   "id": "76cfb2ec",
   "metadata": {},
   "outputs": [
    {
     "data": {
      "text/plain": [
       "user id          0\n",
       "test group       0\n",
       "converted        0\n",
       "total ads        0\n",
       "most ads day     0\n",
       "most ads hour    0\n",
       "dtype: int64"
      ]
     },
     "execution_count": 52,
     "metadata": {},
     "output_type": "execute_result"
    }
   ],
   "source": [
    "df.isnull().sum()"
   ]
  },
  {
   "cell_type": "code",
   "execution_count": 53,
   "id": "c3d2218a",
   "metadata": {},
   "outputs": [
    {
     "data": {
      "text/plain": [
       "0"
      ]
     },
     "execution_count": 53,
     "metadata": {},
     "output_type": "execute_result"
    }
   ],
   "source": [
    "df.duplicated().sum()"
   ]
  },
  {
   "cell_type": "code",
   "execution_count": 54,
   "id": "ecb05f88",
   "metadata": {},
   "outputs": [
    {
     "data": {
      "text/plain": [
       "user id          0\n",
       "test group       0\n",
       "converted        0\n",
       "total ads        0\n",
       "most ads day     0\n",
       "most ads hour    0\n",
       "dtype: int64"
      ]
     },
     "execution_count": 54,
     "metadata": {},
     "output_type": "execute_result"
    }
   ],
   "source": [
    "df[df[\"user id\"].duplicated()].count()"
   ]
  },
  {
   "cell_type": "code",
   "execution_count": 55,
   "id": "92da21d7",
   "metadata": {},
   "outputs": [
    {
     "data": {
      "text/plain": [
       "array(['ad', 'psa'], dtype=object)"
      ]
     },
     "execution_count": 55,
     "metadata": {},
     "output_type": "execute_result"
    }
   ],
   "source": [
    "# Checking Groups\n",
    "df['test group'].unique()"
   ]
  },
  {
   "cell_type": "code",
   "execution_count": 56,
   "id": "1601ebfb",
   "metadata": {},
   "outputs": [
    {
     "data": {
      "text/plain": [
       "array([False,  True])"
      ]
     },
     "execution_count": 56,
     "metadata": {},
     "output_type": "execute_result"
    }
   ],
   "source": [
    "# Checking Convertions (True= Purchase, False= Didn't Purchase)\n",
    "df['converted'].unique()"
   ]
  },
  {
   "cell_type": "code",
   "execution_count": 57,
   "id": "b3c8110b",
   "metadata": {},
   "outputs": [
    {
     "data": {
      "text/plain": [
       "['Friday', 'Monday', 'Saturday', 'Sunday', 'Thursday', 'Tuesday', 'Wednesday']"
      ]
     },
     "execution_count": 57,
     "metadata": {},
     "output_type": "execute_result"
    }
   ],
   "source": [
    "# Days of running campaign\n",
    "sorted(df['most ads day'].unique())"
   ]
  },
  {
   "cell_type": "code",
   "execution_count": 58,
   "id": "32bcc919",
   "metadata": {},
   "outputs": [
    {
     "data": {
      "text/plain": [
       "test group\n",
       "ad     564577\n",
       "psa     23524\n",
       "Name: count, dtype: int64"
      ]
     },
     "execution_count": 58,
     "metadata": {},
     "output_type": "execute_result"
    }
   ],
   "source": [
    "# Exploring each groups' value counts\n",
    "df['test group'].value_counts()"
   ]
  },
  {
   "cell_type": "code",
   "execution_count": 59,
   "id": "169332dd",
   "metadata": {},
   "outputs": [
    {
     "data": {
      "text/plain": [
       "test group\n",
       "ad     0.96\n",
       "psa    0.04\n",
       "Name: proportion, dtype: float64"
      ]
     },
     "execution_count": 59,
     "metadata": {},
     "output_type": "execute_result"
    }
   ],
   "source": [
    "# Normalizing Group value counts\n",
    "df['test group'].value_counts(normalize=True)"
   ]
  },
  {
   "cell_type": "markdown",
   "id": "9dc3f462",
   "metadata": {},
   "source": [
    "###### Comments: A large group of participants was selected for the experimental group, while a smaller group served as the control group, 4% of participants were assigned to the control group (seeing a PSA), and the remaining 96% were in the experimental group (exposed to the ad)."
   ]
  },
  {
   "cell_type": "code",
   "execution_count": 60,
   "id": "fad302ef",
   "metadata": {},
   "outputs": [
    {
     "data": {
      "text/plain": [
       "converted\n",
       "False    573258\n",
       "True      14843\n",
       "Name: count, dtype: int64"
      ]
     },
     "execution_count": 60,
     "metadata": {},
     "output_type": "execute_result"
    }
   ],
   "source": [
    "# Exploring Purchase vs Didn't Purchase value counts\n",
    "df['converted'].value_counts()"
   ]
  },
  {
   "cell_type": "code",
   "execution_count": 61,
   "id": "00131f1d",
   "metadata": {},
   "outputs": [
    {
     "data": {
      "text/plain": [
       "converted\n",
       "False    0.974761\n",
       "True     0.025239\n",
       "Name: proportion, dtype: float64"
      ]
     },
     "execution_count": 61,
     "metadata": {},
     "output_type": "execute_result"
    }
   ],
   "source": [
    "# Normalizing Purchase vs Didn't Purchase counts\n",
    "df['converted'].value_counts(normalize=True)"
   ]
  },
  {
   "cell_type": "markdown",
   "id": "a939ded8",
   "metadata": {},
   "source": [
    "###### Interestingly, the data shows that only 3% of the population has already purchased from the company, with 97% not making a purchase. However, it's important to note that this doesn't necessarily reflect the effectiveness of the advertising campaign yet"
   ]
  },
  {
   "cell_type": "markdown",
   "id": "b4bd5431",
   "metadata": {},
   "source": [
    "## Statistical Data Analysis"
   ]
  },
  {
   "cell_type": "code",
   "execution_count": 62,
   "id": "66640073",
   "metadata": {},
   "outputs": [
    {
     "data": {
      "text/plain": [
       "test group  converted\n",
       "ad          False        550154\n",
       "            True          14423\n",
       "psa         False         23104\n",
       "            True            420\n",
       "Name: count, dtype: int64"
      ]
     },
     "execution_count": 62,
     "metadata": {},
     "output_type": "execute_result"
    }
   ],
   "source": [
    "df.groupby('test group')['converted'].value_counts()"
   ]
  },
  {
   "cell_type": "code",
   "execution_count": 63,
   "id": "c135c397",
   "metadata": {},
   "outputs": [
    {
     "data": {
      "text/plain": [
       "test group  converted\n",
       "ad          False        0.974453\n",
       "            True         0.025547\n",
       "psa         False        0.982146\n",
       "            True         0.017854\n",
       "Name: proportion, dtype: float64"
      ]
     },
     "execution_count": 63,
     "metadata": {},
     "output_type": "execute_result"
    }
   ],
   "source": [
    "df.groupby('test group')['converted'].value_counts(normalize=True)"
   ]
  },
  {
   "cell_type": "code",
   "execution_count": 75,
   "id": "2a4aa988",
   "metadata": {},
   "outputs": [],
   "source": [
    "#saving this grouping for pie chart data\n",
    "catdata = df.groupby('test group')['converted'].value_counts(normalize=True)"
   ]
  },
  {
   "cell_type": "code",
   "execution_count": 83,
   "id": "01344125",
   "metadata": {},
   "outputs": [],
   "source": [
    "cat_ad = catdata['ad']\n",
    "cat_psa = catdata['psa']"
   ]
  },
  {
   "cell_type": "code",
   "execution_count": 64,
   "id": "817c4da3",
   "metadata": {},
   "outputs": [
    {
     "data": {
      "image/png": "[encoded data removed]",
      "text/plain": [
       "<Figure size 800x400 with 1 Axes>"
      ]
     },
     "metadata": {},
     "output_type": "display_data"
    }
   ],
   "source": [
    "plt.figure(figsize=(8, 4), dpi=100)\n",
    "sns.countplot(data=df, x='converted', hue='test group')\n",
    "plt.title('Converted Instances Across the 2 Different Test-Group')\n",
    "\n",
    "\n",
    "plt.show()"
   ]
  },
  {
   "cell_type": "markdown",
   "id": "df51478c",
   "metadata": {},
   "source": [
    "###### Comments: Large number of ads had no conversions and extremely few number of psa had conversions"
   ]
  },
  {
   "cell_type": "code",
   "execution_count": 95,
   "id": "b6d8c5eb",
   "metadata": {},
   "outputs": [
    {
     "data": {
      "text/plain": [
       "Text(0.5, 1.0, 'Conversion of psa')"
      ]
     },
     "execution_count": 95,
     "metadata": {},
     "output_type": "execute_result"
    },
    {
     "data": {
      "image/png": "[encoded data removed]",
      "text/plain": [
       "<Figure size 800x400 with 2 Axes>"
      ]
     },
     "metadata": {},
     "output_type": "display_data"
    }
   ],
   "source": [
    "plt.figure(figsize=(8,4))\n",
    "\n",
    "plt.subplot(1,2,1)\n",
    "plt.pie(cat_ad, labels=cat_ad.index, autopct ='%0.2f%%')\n",
    "plt.title('Conversion of ads')\n",
    "\n",
    "plt.subplot(1,2,2)\n",
    "plt.pie(cat_psa, labels=cat_psa.index, autopct ='%0.2f%%')\n",
    "plt.title('Conversion of psa')"
   ]
  },
  {
   "cell_type": "markdown",
   "id": "cccdd756",
   "metadata": {},
   "source": [
    "###### Comments: Conversions of ads vs psa shows both performed poorly with very little affect (ads had slightly better conversion rate)"
   ]
  },
  {
   "cell_type": "code",
   "execution_count": 65,
   "id": "0ce6c01f",
   "metadata": {},
   "outputs": [
    {
     "data": {
      "text/plain": [
       "<Axes: xlabel='converted', ylabel='total ads'>"
      ]
     },
     "execution_count": 65,
     "metadata": {},
     "output_type": "execute_result"
    },
    {
     "data": {
      "image/png": "[encoded data removed]",
      "text/plain": [
       "<Figure size 640x480 with 1 Axes>"
      ]
     },
     "metadata": {},
     "output_type": "display_data"
    }
   ],
   "source": [
    "sns.boxplot(x= 'converted' , y= 'total ads' , data =df)"
   ]
  },
  {
   "cell_type": "code",
   "execution_count": 66,
   "id": "adc62008",
   "metadata": {},
   "outputs": [
    {
     "data": {
      "text/plain": [
       "<Axes: xlabel='converted', ylabel='total ads'>"
      ]
     },
     "execution_count": 66,
     "metadata": {},
     "output_type": "execute_result"
    },
    {
     "data": {
      "image/png": "[encoded data removed]",
      "text/plain": [
       "<Figure size 640x480 with 1 Axes>"
      ]
     },
     "metadata": {},
     "output_type": "display_data"
    }
   ],
   "source": [
    "sns.boxplot(x= 'converted' , y= 'total ads' , data = df[df['total ads'] <50])"
   ]
  },
  {
   "cell_type": "markdown",
   "id": "1d3a0bec",
   "metadata": {},
   "source": [
    "###### Comments: on a sample of 50, box plot shows there is definitely a relationship of ads shown with convertion rate"
   ]
  },
  {
   "cell_type": "markdown",
   "id": "8876a0f9",
   "metadata": {},
   "source": [
    "## Hypothesis testing"
   ]
  },
  {
   "cell_type": "markdown",
   "id": "4e5fa927",
   "metadata": {},
   "source": [
    "###### I want to answer this question: \"Will the advertising campaign be successful?\"\n",
    "\n",
    "###### To assess this, I'll compare conversion rates (bought/not bought) between the two test groups (ad and psa). Since we have two independent groups, we can use a two-sample hypothesis test\n",
    "\n",
    "###### Then I apply central limit theoram for sampling.  I will create a random sample of 5,000 from the data set and obtain a mean by sampling n=5000. Then looping this process 10,000 times and obtainting 10,000 estimate points for mean of both  groups. "
   ]
  },
  {
   "cell_type": "code",
   "execution_count": 96,
   "id": "ceb34083",
   "metadata": {},
   "outputs": [],
   "source": [
    "group_ad=df[df['test group']=='ad']\n",
    "group_psa=df[df['test group']=='psa']"
   ]
  },
  {
   "cell_type": "code",
   "execution_count": 97,
   "id": "a7056ced",
   "metadata": {},
   "outputs": [
    {
     "data": {
      "text/plain": [
       "0.025546559636683747"
      ]
     },
     "execution_count": 97,
     "metadata": {},
     "output_type": "execute_result"
    }
   ],
   "source": [
    "group_ad['converted'].mean()"
   ]
  },
  {
   "cell_type": "code",
   "execution_count": 98,
   "id": "d8a3e386",
   "metadata": {},
   "outputs": [
    {
     "data": {
      "text/plain": [
       "0.01785410644448223"
      ]
     },
     "execution_count": 98,
     "metadata": {},
     "output_type": "execute_result"
    }
   ],
   "source": [
    "group_psa['converted'].mean()"
   ]
  },
  {
   "cell_type": "code",
   "execution_count": 99,
   "id": "f8b548f1",
   "metadata": {},
   "outputs": [],
   "source": [
    "estimate_list_ad = []\n",
    "for i in range(10000):\n",
    "    estimate_list_ad.append(group_ad['converted'].sample(n=5000,replace=True).mean())"
   ]
  },
  {
   "cell_type": "code",
   "execution_count": 100,
   "id": "ef9b4370",
   "metadata": {},
   "outputs": [
    {
     "data": {
      "text/html": [
       "<div>\n",
       "<style scoped>\n",
       "    .dataframe tbody tr th:only-of-type {\n",
       "        vertical-align: middle;\n",
       "    }\n",
       "\n",
       "    .dataframe tbody tr th {\n",
       "        vertical-align: top;\n",
       "    }\n",
       "\n",
       "    .dataframe thead th {\n",
       "        text-align: right;\n",
       "    }\n",
       "</style>\n",
       "<table border=\"1\" class=\"dataframe\">\n",
       "  <thead>\n",
       "    <tr style=\"text-align: right;\">\n",
       "      <th></th>\n",
       "      <th>estimate</th>\n",
       "    </tr>\n",
       "  </thead>\n",
       "  <tbody>\n",
       "    <tr>\n",
       "      <th>0</th>\n",
       "      <td>0.0266</td>\n",
       "    </tr>\n",
       "    <tr>\n",
       "      <th>1</th>\n",
       "      <td>0.0262</td>\n",
       "    </tr>\n",
       "    <tr>\n",
       "      <th>2</th>\n",
       "      <td>0.0252</td>\n",
       "    </tr>\n",
       "    <tr>\n",
       "      <th>3</th>\n",
       "      <td>0.0230</td>\n",
       "    </tr>\n",
       "    <tr>\n",
       "      <th>4</th>\n",
       "      <td>0.0308</td>\n",
       "    </tr>\n",
       "    <tr>\n",
       "      <th>...</th>\n",
       "      <td>...</td>\n",
       "    </tr>\n",
       "    <tr>\n",
       "      <th>9995</th>\n",
       "      <td>0.0282</td>\n",
       "    </tr>\n",
       "    <tr>\n",
       "      <th>9996</th>\n",
       "      <td>0.0228</td>\n",
       "    </tr>\n",
       "    <tr>\n",
       "      <th>9997</th>\n",
       "      <td>0.0246</td>\n",
       "    </tr>\n",
       "    <tr>\n",
       "      <th>9998</th>\n",
       "      <td>0.0240</td>\n",
       "    </tr>\n",
       "    <tr>\n",
       "      <th>9999</th>\n",
       "      <td>0.0234</td>\n",
       "    </tr>\n",
       "  </tbody>\n",
       "</table>\n",
       "<p>10000 rows × 1 columns</p>\n",
       "</div>"
      ],
      "text/plain": [
       "      estimate\n",
       "0       0.0266\n",
       "1       0.0262\n",
       "2       0.0252\n",
       "3       0.0230\n",
       "4       0.0308\n",
       "...        ...\n",
       "9995    0.0282\n",
       "9996    0.0228\n",
       "9997    0.0246\n",
       "9998    0.0240\n",
       "9999    0.0234\n",
       "\n",
       "[10000 rows x 1 columns]"
      ]
     },
     "execution_count": 100,
     "metadata": {},
     "output_type": "execute_result"
    }
   ],
   "source": [
    "estimate_df_ad = pd.DataFrame(data={'estimate': estimate_list_ad})\n",
    "estimate_df_ad"
   ]
  },
  {
   "cell_type": "code",
   "execution_count": 101,
   "id": "24030a43",
   "metadata": {},
   "outputs": [],
   "source": [
    "estimate_list_psa = []\n",
    "for i in range(10000):\n",
    "    estimate_list_psa.append(group_psa['converted'].sample(n=5000,replace=True).mean())"
   ]
  },
  {
   "cell_type": "code",
   "execution_count": 102,
   "id": "2e869401",
   "metadata": {},
   "outputs": [
    {
     "data": {
      "text/html": [
       "<div>\n",
       "<style scoped>\n",
       "    .dataframe tbody tr th:only-of-type {\n",
       "        vertical-align: middle;\n",
       "    }\n",
       "\n",
       "    .dataframe tbody tr th {\n",
       "        vertical-align: top;\n",
       "    }\n",
       "\n",
       "    .dataframe thead th {\n",
       "        text-align: right;\n",
       "    }\n",
       "</style>\n",
       "<table border=\"1\" class=\"dataframe\">\n",
       "  <thead>\n",
       "    <tr style=\"text-align: right;\">\n",
       "      <th></th>\n",
       "      <th>estimate</th>\n",
       "    </tr>\n",
       "  </thead>\n",
       "  <tbody>\n",
       "    <tr>\n",
       "      <th>0</th>\n",
       "      <td>0.0170</td>\n",
       "    </tr>\n",
       "    <tr>\n",
       "      <th>1</th>\n",
       "      <td>0.0196</td>\n",
       "    </tr>\n",
       "    <tr>\n",
       "      <th>2</th>\n",
       "      <td>0.0212</td>\n",
       "    </tr>\n",
       "    <tr>\n",
       "      <th>3</th>\n",
       "      <td>0.0142</td>\n",
       "    </tr>\n",
       "    <tr>\n",
       "      <th>4</th>\n",
       "      <td>0.0202</td>\n",
       "    </tr>\n",
       "    <tr>\n",
       "      <th>...</th>\n",
       "      <td>...</td>\n",
       "    </tr>\n",
       "    <tr>\n",
       "      <th>9995</th>\n",
       "      <td>0.0192</td>\n",
       "    </tr>\n",
       "    <tr>\n",
       "      <th>9996</th>\n",
       "      <td>0.0196</td>\n",
       "    </tr>\n",
       "    <tr>\n",
       "      <th>9997</th>\n",
       "      <td>0.0200</td>\n",
       "    </tr>\n",
       "    <tr>\n",
       "      <th>9998</th>\n",
       "      <td>0.0194</td>\n",
       "    </tr>\n",
       "    <tr>\n",
       "      <th>9999</th>\n",
       "      <td>0.0194</td>\n",
       "    </tr>\n",
       "  </tbody>\n",
       "</table>\n",
       "<p>10000 rows × 1 columns</p>\n",
       "</div>"
      ],
      "text/plain": [
       "      estimate\n",
       "0       0.0170\n",
       "1       0.0196\n",
       "2       0.0212\n",
       "3       0.0142\n",
       "4       0.0202\n",
       "...        ...\n",
       "9995    0.0192\n",
       "9996    0.0196\n",
       "9997    0.0200\n",
       "9998    0.0194\n",
       "9999    0.0194\n",
       "\n",
       "[10000 rows x 1 columns]"
      ]
     },
     "execution_count": 102,
     "metadata": {},
     "output_type": "execute_result"
    }
   ],
   "source": [
    "estimate_df_psa = pd.DataFrame(data={'estimate': estimate_list_psa})\n",
    "estimate_df_psa"
   ]
  },
  {
   "cell_type": "code",
   "execution_count": 103,
   "id": "22a3e1ac",
   "metadata": {},
   "outputs": [
    {
     "data": {
      "text/plain": [
       "estimate    0.025516\n",
       "dtype: float64"
      ]
     },
     "execution_count": 103,
     "metadata": {},
     "output_type": "execute_result"
    }
   ],
   "source": [
    "estimate_df_ad.mean()"
   ]
  },
  {
   "cell_type": "code",
   "execution_count": 104,
   "id": "c06fb5a5",
   "metadata": {},
   "outputs": [
    {
     "data": {
      "text/plain": [
       "estimate    0.017869\n",
       "dtype: float64"
      ]
     },
     "execution_count": 104,
     "metadata": {},
     "output_type": "execute_result"
    }
   ],
   "source": [
    "estimate_df_psa.mean()"
   ]
  },
  {
   "cell_type": "markdown",
   "id": "f8f92b84",
   "metadata": {},
   "source": [
    "###### The central limit theorem assures us that, even if the original data isn't normally distributed, the means of sufficiently large samples will be approximately normally distributed around the population mean. According to the central limit theorem, the mean of the preceding sampling distribution should be roughly equal to the population mean.\n",
    "\n",
    "###### This is evident here, as the sample means for the 'ad' group (0.025547) and the 'psa' group (0.017874) are very close to the population means (ad='0.025546559636683747' and psd = '0.01785410644448223').\n",
    "\n",
    "###### Because of this, I can confidently use these samples in our t-test."
   ]
  },
  {
   "cell_type": "code",
   "execution_count": 106,
   "id": "f1ed933a",
   "metadata": {},
   "outputs": [
    {
     "data": {
      "text/plain": [
       "Text(0.5, 1.0, 'Distribution of means of sample for ADs')"
      ]
     },
     "execution_count": 106,
     "metadata": {},
     "output_type": "execute_result"
    },
    {
     "data": {
      "image/png": "[encoded data removed]",
      "text/plain": [
       "<Figure size 640x480 with 1 Axes>"
      ]
     },
     "metadata": {},
     "output_type": "display_data"
    }
   ],
   "source": [
    "estimate_df_ad['estimate'].hist()\n",
    "plt.title('Distribution of means of sample for ADs')"
   ]
  },
  {
   "cell_type": "code",
   "execution_count": 107,
   "id": "659e86bc",
   "metadata": {},
   "outputs": [
    {
     "data": {
      "text/plain": [
       "Text(0.5, 1.0, 'Distribution of means of sample for PSAs')"
      ]
     },
     "execution_count": 107,
     "metadata": {},
     "output_type": "execute_result"
    },
    {
     "data": {
      "image/png": "[encoded data removed]",
      "text/plain": [
       "<Figure size 640x480 with 1 Axes>"
      ]
     },
     "metadata": {},
     "output_type": "display_data"
    }
   ],
   "source": [
    "estimate_df_psa['estimate'].hist()\n",
    "plt.title('Distribution of means of sample for PSAs')"
   ]
  },
  {
   "cell_type": "markdown",
   "id": "570ab96e",
   "metadata": {},
   "source": [
    "###### Now that I have organized my data and simulated random sampling, I am ready to conduct my hypothesis test. I use two-sample t-test that it is the standard approach for comparing the means of two independent samples\n",
    "\n",
    "###### In a two-sample t-test, the null hypothesis states that there is no difference between the purchases of your two groups. The alternative hypothesis states the contrary claim: there is a difference between the means of your two groups. The alpha value will be set to 0.05 by standard\n",
    "\n",
    "##### Null Hypothesis (H₀): Advertising is not effective in increasing product purchases.\n",
    "\n",
    "##### Alternative Hypothesis (Hₐ): Advertising is effective in increasing product purchases."
   ]
  },
  {
   "cell_type": "code",
   "execution_count": 108,
   "id": "ee782c17",
   "metadata": {},
   "outputs": [
    {
     "name": "stdout",
     "output_type": "stream",
     "text": [
      "T-statistic: [263.31188446]\n",
      "P-value: [0.]\n"
     ]
    }
   ],
   "source": [
    "t_statistic, p_value = stats.ttest_ind(estimate_df_ad,estimate_df_psa,equal_var=False)\n",
    "\n",
    "print(\"T-statistic:\", t_statistic)\n",
    "print(\"P-value:\", p_value)"
   ]
  },
  {
   "cell_type": "code",
   "execution_count": 115,
   "id": "d6e8a076",
   "metadata": {},
   "outputs": [
    {
     "name": "stdout",
     "output_type": "stream",
     "text": [
      "There is a statistically significant difference in the mean of the two groups, therefore reject Ho\n"
     ]
    }
   ],
   "source": [
    "if p_value < 0.05:\n",
    "    print('There is a statistically significant difference in the mean of the two groups, therefore reject Ho')\n",
    "else:\n",
    "    print('not a significant differnce, Null hypohesis')"
   ]
  },
  {
   "cell_type": "markdown",
   "id": "d7838940",
   "metadata": {},
   "source": [
    "## Conclusion:\n",
    "#### Reject or fail to reject the null hypothesis to draw a conclusion, I compared my p-value with the significance level. (p-value=0.0 < significant level=0.05)\n",
    "\n",
    "#### The p-value is less than the significance level, I can conclude that there is a statistically significant difference in the mean two gorup of campaign and the campaign is effective on customer purchases. In other words, I will reject the null hypothesis H0.\n",
    "    \n"
   ]
  },
  {
   "cell_type": "code",
   "execution_count": null,
   "id": "5f85b157",
   "metadata": {},
   "outputs": [],
   "source": []
  }
 ],
 "metadata": {
  "kernelspec": {
   "display_name": "Python 3 (ipykernel)",
   "language": "python",
   "name": "python3"
  },
  "language_info": {
   "codemirror_mode": {
    "name": "ipython",
    "version": 3
   },
   "file_extension": ".py",
   "mimetype": "text/x-python",
   "name": "python",
   "nbconvert_exporter": "python",
   "pygments_lexer": "ipython3",
   "version": "3.11.7"
  }
 },
 "nbformat": 4,
 "nbformat_minor": 5
}
